{
  "nbformat": 4,
  "nbformat_minor": 0,
  "metadata": {
    "colab": {
      "name": "hafta10dersvequız.ipynb",
      "provenance": [],
      "authorship_tag": "ABX9TyPkD1do8uplqRgRgsqJnsdf",
      "include_colab_link": true
    },
    "kernelspec": {
      "name": "python3",
      "display_name": "Python 3"
    }
  },
  "cells": [
    {
      "cell_type": "markdown",
      "metadata": {
        "id": "view-in-github",
        "colab_type": "text"
      },
      "source": [
        "<a href=\"https://colab.research.google.com/github/ceydanurilhan/Programming-lab/blob/master/hafta10dersvequ%C4%B1z.ipynb\" target=\"_parent\"><img src=\"https://colab.research.google.com/assets/colab-badge.svg\" alt=\"Open In Colab\"/></a>"
      ]
    },
    {
      "cell_type": "code",
      "metadata": {
        "id": "wICotkV9SCxb",
        "colab_type": "code",
        "colab": {}
      },
      "source": [
        "import numpy as np\n",
        "import matplotlib.pyplot as plt\n"
      ],
      "execution_count": 0,
      "outputs": []
    },
    {
      "cell_type": "code",
      "metadata": {
        "id": "uqEGL8XtIUAu",
        "colab_type": "code",
        "colab": {}
      },
      "source": [
        "def min_heapify(array,i): # Listedeki i indeksinden başlayıp tüm elemanları sağ ve sol düğümleri ile karşılaştırıp gerekli yer değişimlerini yapar\n",
        "  left = 2 * i + 1\n",
        "  right = 2 * i + 2\n",
        "  length = len(array) - 1\n",
        "  smallest = i\n",
        "  if left <= length and array[i] > array[left]:\n",
        "    smallest = left\n",
        "  if right <= length and array[smallest] > array[right]:\n",
        "    smallest = right\n",
        "  if smallest != i:\n",
        "    array[i],array[smallest] = array[smallest],array[i]\n",
        "    min_heapify(array,smallest)"
      ],
      "execution_count": 0,
      "outputs": []
    },
    {
      "cell_type": "code",
      "metadata": {
        "id": "sGbUqavASF2k",
        "colab_type": "code",
        "colab": {}
      },
      "source": [
        "def build_min_heap(array): # Listeyi heap haline getirmek için n/2 den 0 a kadar tüm minheapify uygular \n",
        "  for i in reversed(range(len(array)//2)):\n",
        "    min_heapify(array,i)"
      ],
      "execution_count": 0,
      "outputs": []
    },
    {
      "cell_type": "code",
      "metadata": {
        "id": "eJdIARLySwSg",
        "colab_type": "code",
        "colab": {}
      },
      "source": [
        "my_array_1 = [8,10,3,4,7,15,1,2,16]"
      ],
      "execution_count": 0,
      "outputs": []
    },
    {
      "cell_type": "code",
      "metadata": {
        "id": "S8jkQl7fTdGH",
        "colab_type": "code",
        "colab": {}
      },
      "source": [
        "build_min_heap(my_array_1)"
      ],
      "execution_count": 0,
      "outputs": []
    },
    {
      "cell_type": "code",
      "metadata": {
        "id": "1PfeJPBrTTeV",
        "colab_type": "code",
        "outputId": "6d88165b-2473-45cd-f5e4-6ecd0ad5d8b3",
        "colab": {
          "base_uri": "https://localhost:8080/",
          "height": 34
        }
      },
      "source": [
        "my_array_1"
      ],
      "execution_count": 56,
      "outputs": [
        {
          "output_type": "execute_result",
          "data": {
            "text/plain": [
              "[1, 2, 3, 4, 7, 15, 8, 10, 16]"
            ]
          },
          "metadata": {
            "tags": []
          },
          "execution_count": 56
        }
      ]
    },
    {
      "cell_type": "code",
      "metadata": {
        "id": "A9ZlgISxjjhe",
        "colab_type": "code",
        "colab": {}
      },
      "source": [
        "def heapsort(array): # Listeyi min heap'e çevirip sıralar \n",
        "    array = array.copy()\n",
        "    build_min_heap(array)\n",
        "    sorted_array = []\n",
        "    for _ in range(len(array)):\n",
        "        array[0], array[-1] = array[-1], array[0]\n",
        "        sorted_array.append(array.pop())\n",
        "        min_heapify(array, 0)\n",
        "    return sorted_array"
      ],
      "execution_count": 0,
      "outputs": []
    },
    {
      "cell_type": "code",
      "metadata": {
        "id": "NWEzowoHavvW",
        "colab_type": "code",
        "outputId": "5a29f960-6692-471c-846f-fe5f0fd8ab37",
        "colab": {
          "base_uri": "https://localhost:8080/",
          "height": 34
        }
      },
      "source": [
        "my_array_1 = [8,10,3,4,7,15,1,2,16]\n",
        "my_array_2 = heapsort(my_array_1)\n",
        "my_array_1 , my_array_2"
      ],
      "execution_count": 58,
      "outputs": [
        {
          "output_type": "execute_result",
          "data": {
            "text/plain": [
              "([8, 10, 3, 4, 7, 15, 1, 2, 16], [1, 2, 3, 4, 7, 8, 10, 15, 16])"
            ]
          },
          "metadata": {
            "tags": []
          },
          "execution_count": 58
        }
      ]
    },
    {
      "cell_type": "code",
      "metadata": {
        "id": "yy8Cem1zTBhR",
        "colab_type": "code",
        "colab": {}
      },
      "source": [
        "def insertItemToHeap(myheap_1,item): # Heap'e bir eleman ekler eğer min heap yapısı bozuluyorsa yeniden düzenleme yapar\n",
        "  myheap_1.append(item)\n",
        "  build_min_heap(myheap_1)\n"
      ],
      "execution_count": 0,
      "outputs": []
    },
    {
      "cell_type": "code",
      "metadata": {
        "id": "xGjEnWlHfoqh",
        "colab_type": "code",
        "colab": {
          "base_uri": "https://localhost:8080/",
          "height": 34
        },
        "outputId": "293295c4-0304-4028-d427-d046393be998"
      },
      "source": [
        "my_array_1"
      ],
      "execution_count": 60,
      "outputs": [
        {
          "output_type": "execute_result",
          "data": {
            "text/plain": [
              "[8, 10, 3, 4, 7, 15, 1, 2, 16]"
            ]
          },
          "metadata": {
            "tags": []
          },
          "execution_count": 60
        }
      ]
    },
    {
      "cell_type": "code",
      "metadata": {
        "id": "Js5v5NQugNiB",
        "colab_type": "code",
        "colab": {
          "base_uri": "https://localhost:8080/",
          "height": 34
        },
        "outputId": "4a7c6e5f-a89f-41a7-8837-1770fb65975c"
      },
      "source": [
        "insertItemToHeap(my_array_1,6)\n",
        "my_array_1"
      ],
      "execution_count": 61,
      "outputs": [
        {
          "output_type": "execute_result",
          "data": {
            "text/plain": [
              "[1, 2, 3, 4, 6, 15, 8, 10, 16, 7]"
            ]
          },
          "metadata": {
            "tags": []
          },
          "execution_count": 61
        }
      ]
    },
    {
      "cell_type": "code",
      "metadata": {
        "id": "PaEA6QOUoPoa",
        "colab_type": "code",
        "colab": {}
      },
      "source": [
        "def removeItemFrom(myheap_1): # Heap'ten bir eleman siler eğer min heap yapısı bozuluyorsa yeniden düzenleme yapar\n",
        "  if(len(myheap_1) == 0):\n",
        "    print(\"Heapte hiç eleman yok\")\n",
        "    return\n",
        "  \n",
        "  else:\n",
        "    myheap_1.pop()\n",
        "    build_min_heap(myheap_1)"
      ],
      "execution_count": 0,
      "outputs": []
    },
    {
      "cell_type": "code",
      "metadata": {
        "id": "ZPacAz64pm_j",
        "colab_type": "code",
        "colab": {
          "base_uri": "https://localhost:8080/",
          "height": 34
        },
        "outputId": "d92c8afa-11f6-432b-fd44-d0a2ce4edbcb"
      },
      "source": [
        "my_array_1"
      ],
      "execution_count": 63,
      "outputs": [
        {
          "output_type": "execute_result",
          "data": {
            "text/plain": [
              "[1, 2, 3, 4, 6, 15, 8, 10, 16, 7]"
            ]
          },
          "metadata": {
            "tags": []
          },
          "execution_count": 63
        }
      ]
    },
    {
      "cell_type": "code",
      "metadata": {
        "id": "qSxOYVG0pqnr",
        "colab_type": "code",
        "colab": {
          "base_uri": "https://localhost:8080/",
          "height": 34
        },
        "outputId": "6dcdbfcb-6cc4-4e24-e35f-a7386c3f761a"
      },
      "source": [
        "removeItemFrom(my_array_1)\n",
        "my_array_1 "
      ],
      "execution_count": 65,
      "outputs": [
        {
          "output_type": "execute_result",
          "data": {
            "text/plain": [
              "[1, 2, 3, 4, 6, 15, 8, 10]"
            ]
          },
          "metadata": {
            "tags": []
          },
          "execution_count": 65
        }
      ]
    }
  ]
}